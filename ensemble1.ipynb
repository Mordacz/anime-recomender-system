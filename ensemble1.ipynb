{
 "cells": [
  {
   "cell_type": "code",
   "execution_count": 1,
   "metadata": {},
   "outputs": [],
   "source": [
    "import os\n",
    "import collections\n",
    "from tqdm import tqdm\n",
    "import statistics\n",
    "import copy\n",
    "import math\n",
    "import numpy as np\n",
    "import csv\n",
    "import matplotlib.pyplot as plt"
   ]
  },
  {
   "cell_type": "code",
   "execution_count": 2,
   "metadata": {},
   "outputs": [],
   "source": [
    "rows = []\n",
    "\n",
    "anime_id_to_name = {}\n",
    "anime_name_to_id = {}\n",
    "anime_id_to_genres = {}\n",
    "\n",
    "with open('anime.csv', newline='') as f:\n",
    "    file_rows = csv.reader(f)\n",
    "    first_row = True\n",
    "    for row in file_rows:\n",
    "        if first_row:\n",
    "            first_row = False\n",
    "        else:\n",
    "            anime_id = int(row[0])\n",
    "            anime_name = row[1]\n",
    "            anime_genres = set()\n",
    "            anime_genres_spaces = row[2].split(',')\n",
    "            for genre in anime_genres_spaces:\n",
    "                if not genre:\n",
    "                    continue\n",
    "                if genre[0] == ' ':\n",
    "                    anime_genres.add(genre[1:])\n",
    "                else:\n",
    "                    anime_genres.add(genre)\n",
    "                \n",
    "            \n",
    "            \n",
    "            anime_id_to_name[anime_id] = anime_name\n",
    "            anime_name_to_id[anime_name] = anime_id\n",
    "            anime_id_to_genres[anime_id] = anime_genres   \n",
    "            \n",
    "anime_names = anime_name_to_id.keys()\n",
    "anime_ids = anime_id_to_name.keys()"
   ]
  },
  {
   "cell_type": "code",
   "execution_count": 3,
   "metadata": {},
   "outputs": [
    {
     "name": "stdout",
     "output_type": "stream",
     "text": [
      "Zan Sayonara Zetsubou Sensei Bangaichi (7044, {'School', 'Comedy', 'Parody'})\n"
     ]
    }
   ],
   "source": [
    "print(anime_id_to_name[list(anime_id_to_genres.keys())[618]],list(anime_id_to_genres.items())[618])"
   ]
  },
  {
   "cell_type": "code",
   "execution_count": 4,
   "metadata": {},
   "outputs": [],
   "source": [
    "all_genres_counter = collections.Counter([genre for anime_genres in anime_id_to_genres.values() for genre in anime_genres])\n",
    "\n",
    "all_genres = set()\n",
    "for s in anime_id_to_genres.values():\n",
    "    all_genres |= s\n",
    "    \n",
    "anime_count = len(list(anime_ids))"
   ]
  },
  {
   "cell_type": "code",
   "execution_count": 5,
   "metadata": {},
   "outputs": [
    {
     "data": {
      "text/plain": [
       "defaultdict(<function __main__.acalculate_tfidf.<locals>.<lambda>()>,\n",
       "            {'School': 0.34537275392030353,\n",
       "             'Comedy': 0.145506621494283,\n",
       "             'Parody': 0.5091206245854135})"
      ]
     },
     "execution_count": 5,
     "metadata": {},
     "output_type": "execute_result"
    }
   ],
   "source": [
    "def acalculate_tfidf(anime):\n",
    "    terms = list(anime_id_to_genres[anime])\n",
    "    terms_len = len(terms)\n",
    "    \n",
    "    tfidfd = collections.defaultdict(lambda: 0.0)\n",
    "\n",
    "    for genre in anime_id_to_genres[anime]:\n",
    "        tfidfd[genre] = 1.0/terms_len * np.log10(anime_count/all_genres_counter[genre])\n",
    "\n",
    "    ksum = sum(tfidfd[k] for k in tfidfd.keys())\n",
    "    for k in tfidfd.keys():\n",
    "        tfidfd[k] = tfidfd[k]/ksum\n",
    "        \n",
    "    return tfidfd\n",
    "\n",
    "acalculate_tfidf(7044)"
   ]
  },
  {
   "cell_type": "code",
   "execution_count": 6,
   "metadata": {},
   "outputs": [],
   "source": [
    "def acalculate_cosine(anime1, anime2):\n",
    "        \n",
    "    # this is done so that a title is similar to itself even if it doesnt have any tags\n",
    "    if anime1 == anime2:\n",
    "        return 1\n",
    "    \n",
    "    anime1tfidf = acalculate_tfidf(anime1)\n",
    "    anime2tfidf = acalculate_tfidf(anime2)\n",
    "    \n",
    "    licznik = 0.0\n",
    "    for k in set(list(anime1tfidf.keys()) + list(anime2tfidf.keys())):\n",
    "        licznik += anime1tfidf[k] * anime2tfidf[k]\n",
    "    \n",
    "    m1 = sum(anime1tfidf[k]**2.0 for k in anime1tfidf.keys())\n",
    "    m2 = sum(anime2tfidf[k]**2.0 for k in anime2tfidf.keys())\n",
    "    \n",
    "    try:\n",
    "        res = licznik/(math.sqrt(m1) * math.sqrt(m2))\n",
    "        if not math.isnan(res):\n",
    "            return res\n",
    "        else:\n",
    "            return -1\n",
    "    except:\n",
    "        return -1"
   ]
  },
  {
   "cell_type": "code",
   "execution_count": 7,
   "metadata": {},
   "outputs": [],
   "source": [
    "# idk if it makes sens to have this function, \n",
    "# we could maybe merge functions i.e calculate_cosine from here and danbooru notebook\n",
    "def acalculate_series_similarity(series1, series2):\n",
    "    return acalculate_cosine(series1, series2)"
   ]
  },
  {
   "cell_type": "code",
   "execution_count": 8,
   "metadata": {},
   "outputs": [],
   "source": [
    "ratings = collections.defaultdict(lambda: {})\n",
    "user_ids = set()\n",
    "\n",
    "with open('rating.csv','r') as f:\n",
    "    lines = f.read().splitlines()\n",
    "    lines = lines[1:]\n",
    "    for line in lines:\n",
    "        line = line.split(',')\n",
    "        user_id = int(line[0])\n",
    "        anime_id = int(line[1])\n",
    "        if anime_id not in anime_ids:\n",
    "            continue\n",
    "        rating = int(line[2])\n",
    "        ratings[user_id][anime_id] = rating\n",
    "        user_ids.add(user_id)"
   ]
  },
  {
   "cell_type": "code",
   "execution_count": 9,
   "metadata": {},
   "outputs": [],
   "source": [
    "def knn(user_id, anime_id, K):\n",
    "    result = []\n",
    "    \n",
    "    for other_anime_id in ratings[user_id].keys():\n",
    "        if other_anime_id != anime_id and ratings[user_id][other_anime_id] != -1:\n",
    "            result.append((acalculate_series_similarity(anime_id,other_anime_id),other_anime_id,ratings[user_id][other_anime_id]))\n",
    "        \n",
    "    result = sorted(result, reverse=True)\n",
    "    \n",
    "    K = min(K, len(result))\n",
    "    \n",
    "    return result[0:K]"
   ]
  },
  {
   "cell_type": "code",
   "execution_count": 10,
   "metadata": {},
   "outputs": [],
   "source": [
    "def get_rating(user_id,anime_id,K):\n",
    "    neighbors = knn(user_id,anime_id,K)\n",
    "    \n",
    "    if not neighbors:\n",
    "        return 5\n",
    "    \n",
    "    rating = 0\n",
    "    for neighbor in neighbors:\n",
    "        rating += neighbor[2]\n",
    "        \n",
    "    return rating / len(neighbors)"
   ]
  },
  {
   "cell_type": "code",
   "execution_count": 11,
   "metadata": {},
   "outputs": [],
   "source": [
    "def get_tests(path):\n",
    "    tests = []\n",
    "    with open(path,'r') as f:\n",
    "        lines = f.read().splitlines()\n",
    "        for line in lines:\n",
    "            line = line.split(' ')\n",
    "            user_id = int(line[0])\n",
    "            anime_id = int(line[1])\n",
    "            if anime_id not in anime_ids:\n",
    "                continue\n",
    "\n",
    "            tests.append((user_id,anime_id))\n",
    "    return tests"
   ]
  },
  {
   "cell_type": "code",
   "execution_count": 12,
   "metadata": {},
   "outputs": [],
   "source": [
    "def tester(test_user_ids,K):\n",
    "    mse = 0\n",
    "    n = 0\n",
    "    for test in tests:\n",
    "        user_id = test[0]\n",
    "        tested_anime_id = test[1]\n",
    "        rating = ratings[user_id][tested_anime_id]\n",
    "        predicted_rating = get_rating(user_id,tested_anime_id,K)\n",
    "        n += 1\n",
    "        mse += (rating - predicted_rating)**2\n",
    "    \n",
    "    return mse / n"
   ]
  },
  {
   "cell_type": "code",
   "execution_count": 13,
   "metadata": {},
   "outputs": [
    {
     "name": "stderr",
     "output_type": "stream",
     "text": [
      "100%|██████████| 200/200 [00:10<00:00, 19.21it/s]\n"
     ]
    },
    {
     "data": {
      "image/png": "[encoded data removed]",
      "text/plain": [
       "<Figure size 432x288 with 1 Axes>"
      ]
     },
     "metadata": {
      "needs_background": "light"
     },
     "output_type": "display_data"
    }
   ],
   "source": [
    "#paths = ['connoisseur.txt','newbies.txt','popular.txt','random.txt']\n",
    "paths = ['newbies.txt']\n",
    "for path in paths:\n",
    "    res = []\n",
    "    for k in tqdm(range(200)):\n",
    "        tests = get_tests(path)\n",
    "        mse = tester(tests,k+1) \n",
    "        res.append(mse)\n",
    "    path_wo_ext = path.split('.')[0]\n",
    "    plt.plot(res)\n",
    "    plt.ylabel(f'MSE from {path_wo_ext}')\n",
    "    plt.show()"
   ]
  },
  {
   "cell_type": "code",
   "execution_count": 14,
   "metadata": {},
   "outputs": [],
   "source": [
    "tagname2tagid = {}\n",
    "tagid2tagname = {}\n",
    "idfocccounter = collections.defaultdict(lambda: 0)"
   ]
  },
  {
   "cell_type": "code",
   "execution_count": 15,
   "metadata": {},
   "outputs": [],
   "source": [
    "def load_anime():\n",
    "    charactercount = 0\n",
    "    characterstat = collections.defaultdict(lambda: 0.0)\n",
    "    characters = collections.defaultdict(lambda: copy.deepcopy(characterstat))\n",
    "    animes = collections.defaultdict(lambda: copy.deepcopy(characters))\n",
    "    \n",
    "    for anime in tqdm(list(os.listdir(\"BIG_animedump\"))):\n",
    "        for character in list(os.listdir(f\"BIG_animedump/{anime}\")):\n",
    "            with open(f\"BIG_animedump/{anime}/{character}\", \"r\") as f:\n",
    "                data = f.read().split(\"\\n\")\n",
    "                for l in data[1:-1]:\n",
    "                    tagc, tagid, tagname = l.split()\n",
    "                    tagc = int(tagc[:-1])\n",
    "                    tagid = int(tagid[:-1])\n",
    "                    animes[anime][character[:-4]][tagid] = tagc\n",
    "                    tagname2tagid[tagname] = tagid\n",
    "                    tagid2tagname[tagid] = tagname\n",
    "                    idfocccounter[tagid] += 1\n",
    "                    charactercount += 1\n",
    "                    \n",
    "    return (charactercount, animes)"
   ]
  },
  {
   "cell_type": "code",
   "execution_count": 16,
   "metadata": {},
   "outputs": [
    {
     "name": "stderr",
     "output_type": "stream",
     "text": [
      "100%|██████████| 18265/18265 [00:05<00:00, 3178.60it/s]\n"
     ]
    }
   ],
   "source": [
    "charactercount, animedata = load_anime()"
   ]
  },
  {
   "cell_type": "code",
   "execution_count": 17,
   "metadata": {},
   "outputs": [],
   "source": [
    "def calculate_tfidf(character):\n",
    "    terms = sum(character[k] for k in character.keys())\n",
    "    tfidfd = collections.defaultdict(lambda: 0.0)\n",
    "\n",
    "    for k in character.keys():\n",
    "        tfidfd[k] = character[k]/terms * np.log10(charactercount/idfocccounter[k])\n",
    "\n",
    "    ksum = sum(tfidfd[k] for k in tfidfd.keys())\n",
    "    for k in tfidfd.keys():\n",
    "        tfidfd[k] = tfidfd[k]/ksum\n",
    "        \n",
    "    return tfidfd"
   ]
  },
  {
   "cell_type": "code",
   "execution_count": 18,
   "metadata": {},
   "outputs": [],
   "source": [
    "def calculate_cosine(character1, character2):\n",
    "    char1tfidf = calculate_tfidf(character1)\n",
    "    char2tfidf = calculate_tfidf(character2)\n",
    "    \n",
    "    licznik = 0.0\n",
    "    for k in set(list(char1tfidf.keys()) + list(char2tfidf.keys())):\n",
    "        licznik += char1tfidf[k] * char2tfidf[k]\n",
    "    \n",
    "    m1 = sum(char1tfidf[k]**2.0 for k in char1tfidf.keys())\n",
    "    m2 = sum(char2tfidf[k]**2.0 for k in char2tfidf.keys())\n",
    "\n",
    "    if math.isnan(licznik/(math.sqrt(m1) * math.sqrt(m2))):\n",
    "        return -1.0\n",
    "    return licznik/(math.sqrt(m1) * math.sqrt(m2))"
   ]
  },
  {
   "cell_type": "code",
   "execution_count": 19,
   "metadata": {},
   "outputs": [
    {
     "name": "stdout",
     "output_type": "stream",
     "text": [
      "(0.0, 0.4710330441368347, 0.23593691467242672)\n",
      "(0.17370068582234513, 0.630942176413259, 0.37067900425897216)\n"
     ]
    }
   ],
   "source": [
    "def calculate_series_similarity(series1, series2):\n",
    "    atmp = []\n",
    "    #print(len(animedata[series1].keys()), len(animedata[series2].keys()))\n",
    "    t1 = list(animedata[series1].keys())\n",
    "    t2 = list(animedata[series2].keys())\n",
    "    \n",
    "    f1 = []\n",
    "    f2 = []\n",
    "    sizeconst = 64\n",
    "    if len(t1) < sizeconst:\n",
    "        f1 = t1\n",
    "    else:\n",
    "        ind = np.random.choice(len(t1), sizeconst, replace=False)\n",
    "        for i in ind:\n",
    "            f1.append(t1[i])\n",
    "\n",
    "    if len(t2) < sizeconst:\n",
    "        f2 = t2\n",
    "    else:\n",
    "        ind = np.random.choice(len(t2), sizeconst, replace=False)\n",
    "        for i in ind:\n",
    "            f2.append(t2[i])\n",
    "\n",
    "    for charactera in f1:\n",
    "        for characterb in f2: \n",
    "            atmp.append(( \n",
    "                calculate_cosine(\n",
    "                    animedata[series1][charactera], \n",
    "                    animedata[series2][characterb]\n",
    "                ), charactera, characterb)\n",
    "            )\n",
    "    \n",
    "    resmap = [q[0] for q in atmp]\n",
    "    return (min(resmap), max(resmap), statistics.mean(resmap))\n",
    "    \n",
    "print(calculate_series_similarity(\"nekopara\", \"kobayashi-san_chi_no_maidragon\"))\n",
    "print(calculate_series_similarity(\"nekopara\", \"asobi_ni_iku_yo!\"))"
   ]
  },
  {
   "cell_type": "code",
   "execution_count": 20,
   "metadata": {},
   "outputs": [
    {
     "name": "stdout",
     "output_type": "stream",
     "text": [
      "thrown not enough values to unpack (expected 3, got 1)\n",
      "for \n"
     ]
    }
   ],
   "source": [
    "def load_animedict():\n",
    "    id2booruname = collections.defaultdict(lambda: (None, None))\n",
    "    with open(\"conversion_dictionary.csv\", \"r\") as f:\n",
    "        for a in f.read().split(\"\\n\")[1:]:\n",
    "            try:\n",
    "                malid, boorun, confidence = a.split(\",\")\n",
    "                id2booruname[int(malid)] = (boorun[1:], float(confidence))\n",
    "            except Exception as e:\n",
    "                print(f\"thrown {e}\")\n",
    "                print(f\"for {a}\")\n",
    "                \n",
    "    return id2booruname\n",
    "            \n",
    "id2boorunamed = load_animedict()"
   ]
  },
  {
   "cell_type": "code",
   "execution_count": 21,
   "metadata": {},
   "outputs": [
    {
     "name": "stdout",
     "output_type": "stream",
     "text": [
      "('nekopara', 0.009940357852882704)\n",
      "('asobi_ni_iku_yo!', 0.02054340622929092)\n"
     ]
    },
    {
     "data": {
      "text/plain": [
       "((0.17370068582234513, 0.630942176413259, 0.37067900425897216),\n",
       " (0.009940357852882704, 0.02054340622929092))"
      ]
     },
     "execution_count": 21,
     "metadata": {},
     "output_type": "execute_result"
    }
   ],
   "source": [
    "print(id2boorunamed[38924])\n",
    "print(id2boorunamed[6166])\n",
    "\n",
    "def idbased_seriesdistance(id1, id2):\n",
    "    anime1, confidence1 = id2boorunamed[id1]\n",
    "    anime2, confidence2 = id2boorunamed[id2]\n",
    "    if anime1 and anime2:\n",
    "        return (calculate_series_similarity(anime1, anime2), (confidence1, confidence2))\n",
    "    else:\n",
    "        return ((100000000, 100000000, 100000000), (0.0, 0.0))\n",
    "    \n",
    "idbased_seriesdistance(38924, 6166)"
   ]
  },
  {
   "cell_type": "code",
   "execution_count": 22,
   "metadata": {},
   "outputs": [],
   "source": [
    "def load_marks():\n",
    "    userrating = collections.defaultdict(lambda: [])\n",
    "    with open(\"rating.csv\", \"r\") as f:\n",
    "        for t in f.read().split(\"\\n\")[1:]:\n",
    "            try:\n",
    "                userid, animeid, mark = t.split(\",\")\n",
    "                userrating[int(userid)].append((int(animeid), int(mark)))\n",
    "            except Exception as e:\n",
    "                print(f\"thrown {e}\")\n",
    "                print(f\"for {t}\")\n",
    "    return userrating\n"
   ]
  },
  {
   "cell_type": "code",
   "execution_count": 23,
   "metadata": {},
   "outputs": [
    {
     "name": "stdout",
     "output_type": "stream",
     "text": [
      "thrown not enough values to unpack (expected 3, got 1)\n",
      "for \n"
     ]
    }
   ],
   "source": [
    "user_ratings = load_marks()"
   ]
  },
  {
   "cell_type": "code",
   "execution_count": 24,
   "metadata": {},
   "outputs": [],
   "source": [
    "memcache = {}"
   ]
  },
  {
   "cell_type": "code",
   "execution_count": 51,
   "metadata": {},
   "outputs": [],
   "source": [
    "def calculate_score(target_id, rratings, id2boorunamed):\n",
    "    ratings = []\n",
    "    for r in rratings:\n",
    "        if r[1] == -1:\n",
    "            pass\n",
    "        else:\n",
    "            ratings.append(r)\n",
    "    \n",
    "    if len(ratings) == 1:\n",
    "        return False, [5.0 for _ in range(200)]\n",
    "    \n",
    "    targetname, target_conf = id2boorunamed[target_id]\n",
    "    \n",
    "    if targetname == None:\n",
    "        return False, [5.0 for _ in range(200)]\n",
    "\n",
    "    distmapv = []\n",
    "    for serieid, serierating in ratings:\n",
    "        if serieid != target_id:\n",
    "            seriename, serieconf = id2boorunamed[serieid]\n",
    "            if seriename:\n",
    "                try:\n",
    "                    if (targetname, seriename) in memcache:\n",
    "                        seriesim = memcache[(targetname, seriename)]\n",
    "                    else:\n",
    "                        seriesim = calculate_series_similarity(targetname, seriename)\n",
    "                        memcache[(targetname, seriename)] = seriesim\n",
    "                    distmapv.append((seriesim[2], serierating))\n",
    "                except Exception as e:\n",
    "                    distmapv.append((0.0, serierating))\n",
    "    #print(distmapv)\n",
    "    q = sorted(distmapv, reverse=True)\n",
    "    \n",
    "    finscores = []\n",
    "    licznik = 0.0\n",
    "    mianownik = 0.0001\n",
    "    \n",
    "    if len(q) == 0:\n",
    "        return False, [5.0 for _ in range(200)]\n",
    "    \n",
    "    dudes = []\n",
    "    #for sd, ss in q:\n",
    "    #    dudes.append(ss)\n",
    "    #    finscores.append(sum(dudes)/len(dudes))\n",
    "    \n",
    "    for sd, ss in q:\n",
    "        licznik += sd*ss\n",
    "        mianownik += sd\n",
    "        finscores.append(licznik/mianownik)\n",
    "    \n",
    "    keep = finscores[-1]\n",
    "    while len(finscores) < 200:\n",
    "        finscores.append(keep)\n",
    "    \n",
    "    return True, finscores\n",
    "\n",
    "def calculate_mse(target, target_rating, scoring):\n",
    "    ts = 0\n",
    "    for aid, sc in target_rating:\n",
    "        if aid == target:\n",
    "            ts = sc\n",
    "    if ts == -1:\n",
    "        raise NotImplemented\n",
    "    return [(s-ts)**2 for s in scoring]\n",
    "\n",
    "def runtest(target, id2boorunamed):\n",
    "    oks = 0\n",
    "    fails = 0\n",
    "    My_mse = []\n",
    "    Awg_mse = []\n",
    "    Joined_mse = []\n",
    "    T_mse = []\n",
    "    with open(target, \"r\") as f:\n",
    "        testdata = f.read().split(\"\\n\")[:-1]\n",
    "        for t in tqdm(testdata):\n",
    "            userid, animeid = t.split(\" \")\n",
    "            sure, scores = calculate_score(int(animeid), user_ratings[int(userid)], id2boorunamed)\n",
    "            Tscores = [get_rating(int(userid), int(animeid), k+1) for k in range(200)]            \n",
    "            # Wyłącznie Moje\n",
    "            MyScores = copy.deepcopy(scores)\n",
    "            # Zawsze średnia\n",
    "            Awg = [(scores[i] + Tscores[i])/2.0 for i in range(200)]\n",
    "            # Tomkowe gdy ja nie umiem.\n",
    "            Joined = []\n",
    "            if sure:\n",
    "                Joined = copy.deepcopy(scores)\n",
    "            else:\n",
    "                Joined = copy.deepcopy(Tscores)\n",
    "            \n",
    "            My_mse.append(calculate_mse(int(animeid), user_ratings[int(userid)], MyScores))\n",
    "            Awg_mse.append(calculate_mse(int(animeid), user_ratings[int(userid)], Awg))\n",
    "            Joined_mse.append(calculate_mse(int(animeid), user_ratings[int(userid)], Joined))\n",
    "            T_mse.append(calculate_mse(int(animeid), user_ratings[int(userid)], Tscores))\n",
    "\n",
    "    return My_mse, Awg_mse, Joined_mse, T_mse\n",
    "    "
   ]
  },
  {
   "cell_type": "code",
   "execution_count": 58,
   "metadata": {},
   "outputs": [
    {
     "name": "stderr",
     "output_type": "stream",
     "text": [
      " 17%|█▋        | 86/500 [01:07<04:46,  1.44it/s]/home/zbyszek/.local/lib/python3.7/site-packages/ipykernel_launcher.py:18: RuntimeWarning: invalid value encountered in double_scalars\n",
      "100%|██████████| 500/500 [06:53<00:00,  1.21it/s]\n",
      "100%|██████████| 500/500 [00:10<00:00, 48.90it/s]\n",
      "100%|██████████| 500/500 [52:30<00:00,  6.30s/it]    \n",
      "100%|██████████| 500/500 [39:00<00:00,  4.68s/it]  \n"
     ]
    }
   ],
   "source": [
    "def flatten_mse(mselist):\n",
    "    mselen = len(mselist)\n",
    "    finmse = [0.0 for _ in range(200)]\n",
    "    \n",
    "    for dim in range(200):\n",
    "        s = 0\n",
    "        for dude in mselist:\n",
    "            s += dude[dim]\n",
    "        finmse[dim] = s/mselen\n",
    "    return finmse\n",
    "    \n",
    "\n",
    "for fh in [\"popular.txt\", \"newbies.txt\", \"connoisseur.txt\", \"random.txt\"]:\n",
    "    My_mse, Awg_mse, Joined_mse, T_mse = runtest(fh, id2boorunamed)\n",
    "    flattened_My = flatten_mse(My_mse)\n",
    "    flattened_Awg = flatten_mse(Awg_mse)\n",
    "    flattened_Joined = flatten_mse(Joined_mse)\n",
    "    flattened_T = flatten_mse(T_mse)\n",
    "    \n",
    "    with open(f\"ensemble_errors/errors_{fh}\", \"w\") as f:\n",
    "        f.write(f\"tylko_moje, tylko_Tomka, srednia, fallback\\n\")\n",
    "        for dim in range(200):\n",
    "            f.write(f\"{flattened_My[dim]}, {flattened_T[dim]}, {flattened_Awg[dim]}, {flattened_Joined[dim]}\\n\")"
   ]
  },
  {
   "cell_type": "code",
   "execution_count": 57,
   "metadata": {},
   "outputs": [
    {
     "name": "stdout",
     "output_type": "stream",
     "text": [
      "4.062618276333069 2.2378578349581364 1.5577376738743778 1.6390607100937127\n"
     ]
    },
    {
     "data": {
      "image/png": "[encoded data removed]",
      "text/plain": [
       "<Figure size 432x288 with 1 Axes>"
      ]
     },
     "metadata": {
      "needs_background": "light"
     },
     "output_type": "display_data"
    }
   ],
   "source": [
    "plt.plot([i for i in range(50)], flattened_My[:50], c ='g')\n",
    "plt.plot([i for i in range(50)], flattened_Awg[:50], c ='y')\n",
    "plt.plot([i for i in range(50)], flattened_Joined[:50], c ='r')\n",
    "plt.plot([i for i in range(50)], flattened_T[:50], c ='b')\n",
    "\n",
    "print(min(flattened_My), min(flattened_Awg), min(flattened_Joined), min(flattened_T))"
   ]
  },
  {
   "cell_type": "code",
   "execution_count": 44,
   "metadata": {},
   "outputs": [
    {
     "data": {
      "text/plain": [
       "1.2449899597988732"
      ]
     },
     "execution_count": 44,
     "metadata": {},
     "output_type": "execute_result"
    }
   ],
   "source": []
  },
  {
   "cell_type": "code",
   "execution_count": null,
   "metadata": {},
   "outputs": [],
   "source": []
  }
 ],
 "metadata": {
  "kernelspec": {
   "display_name": "Python 3",
   "language": "python",
   "name": "python3"
  },
  "language_info": {
   "codemirror_mode": {
    "name": "ipython",
    "version": 3
   },
   "file_extension": ".py",
   "mimetype": "text/x-python",
   "name": "python",
   "nbconvert_exporter": "python",
   "pygments_lexer": "ipython3",
   "version": "3.7.3"
  }
 },
 "nbformat": 4,
 "nbformat_minor": 4
}
