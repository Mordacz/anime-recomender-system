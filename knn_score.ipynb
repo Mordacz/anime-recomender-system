{
 "cells": [
  {
   "cell_type": "code",
   "execution_count": 1,
   "metadata": {},
   "outputs": [],
   "source": [
    "import numpy as np\n",
    "from sklearn.neighbors import NearestNeighbors as NN\n"
   ]
  },
  {
   "cell_type": "code",
   "execution_count": 2,
   "metadata": {},
   "outputs": [],
   "source": [
    "#metrics\n",
    "\n",
    "# arguments: pair of vectors of scores\n",
    "# vectors should be dictionaries in form {anime_id : rating}\n",
    "# returns: distance\n",
    "\n",
    "#useful constants:\n",
    "infty = 1e100"
   ]
  },
  {
   "cell_type": "code",
   "execution_count": 3,
   "metadata": {
    "scrolled": true
   },
   "outputs": [],
   "source": [
    "def normalized_dist(x, y) :\n",
    "    nonzero_indices = x.keys() & y.keys()\n",
    "    N = len(nonzero_indices)\n",
    "    if(N == 0) :\n",
    "        return infty #defined at the beginning, check for that\n",
    "    cut_x = np.array([x[ind] for ind in nonzero_indices])\n",
    "    cut_y = np.array([y[ind] for ind in nonzero_indices])\n",
    "    diff = cut_x - cut_y\n",
    "    dist = np.sum(diff ** 2) / N\n",
    "    return dist\n",
    "\n"
   ]
  },
  {
   "cell_type": "code",
   "execution_count": 4,
   "metadata": {},
   "outputs": [],
   "source": [
    "def myKNN(x, vectors, metric, K) :\n",
    "    \n",
    "    dists = []\n",
    "    ret = []\n",
    "    \n",
    "    N = len(vectors)\n",
    "    for i in range(0, N) :\n",
    "        dists.append((metric(x, vectors[i]), i))\n",
    "    \n",
    "    dists = sorted(dists)\n",
    "    \n",
    "    K = min(K, N)\n",
    "    for i in range(0, K) :\n",
    "        ret.append(dists[i][1])\n",
    "    \n",
    "    return ret\n",
    "    "
   ]
  },
  {
   "cell_type": "code",
   "execution_count": 5,
   "metadata": {},
   "outputs": [],
   "source": [
    "# returns score based on nearest neighbours\n",
    "\n",
    "# x - index of user\n",
    "# vectors - users ratings as vector\n",
    "# dist - metric used\n",
    "# K - number of neighbours used to calculate the score\n",
    "\n",
    "def KNN_score(anime_id, user_vec, vectors, dist, K = 5) :\n",
    "    #Neigh = NN(n_neighbors = K, metric = dist)\n",
    "    #Neigh.fit(vectors)\n",
    "    #neighbors = Neigh.kneighbors([user_vec])[1]\n",
    "    neighbors = myKNN(user_vec, vectors, dist, K)\n",
    "    neigh_scores = np.array([vectors[nei][anime_id] for nei in neighbors])\n",
    "    print(\"scores:\", neigh_scores)\n",
    "    score = np.average(neigh_scores)\n",
    "    return score\n",
    "    "
   ]
  },
  {
   "cell_type": "code",
   "execution_count": 6,
   "metadata": {},
   "outputs": [],
   "source": [
    "records = []\n",
    "users = 10\n",
    "animes = 3\n",
    "for i in range(1, 6) :\n",
    "    for j in [1, 3] :\n",
    "        records.append([i, j, i])\n",
    "for i in range(6, 11):\n",
    "    for j in [1, 2, 3] :\n",
    "        records.append([i, j, i - 5])\n"
   ]
  },
  {
   "cell_type": "code",
   "execution_count": 7,
   "metadata": {},
   "outputs": [
    {
     "name": "stdout",
     "output_type": "stream",
     "text": [
      "1 {1: 1, 3: 1}\n",
      "2 {1: 2, 3: 2}\n",
      "3 {1: 3, 3: 3}\n",
      "4 {1: 4, 3: 4}\n",
      "5 {1: 5, 3: 5}\n",
      "6 {1: 1, 2: 1, 3: 1}\n",
      "7 {1: 2, 2: 2, 3: 2}\n",
      "8 {1: 3, 2: 3, 3: 3}\n",
      "9 {1: 4, 2: 4, 3: 4}\n",
      "10 {1: 5, 2: 5, 3: 5}\n"
     ]
    }
   ],
   "source": [
    "ratings = [0] * (users + 1)\n",
    "\n",
    "for i in range(0, users + 1) :\n",
    "    ratings[i] = dict()\n",
    "\n",
    "def parse_records(minus_one = -1) :\n",
    "    for r in records :\n",
    "        user_id, anime_id, rating = r\n",
    "        #print(user_id, anime_id, rating)\n",
    "        if(rating == -1) :\n",
    "            rating = minus_one\n",
    "        if(rating != 0) :\n",
    "            ratings[user_id][anime_id] = rating\n",
    "        #print(ratings)\n",
    "        #print(user_id, ratings[user_id])\n",
    "\n",
    "def cut_records(anime_id) :\n",
    "    result = []\n",
    "    for user in range(1, users + 1) :\n",
    "        if(anime_id in ratings[user]) :\n",
    "            result.append(ratings[user])\n",
    "    return result\n",
    "\n",
    "parse_records()\n",
    "for u in range(1, users + 1) :\n",
    "    print(u, ratings[u])\n",
    "    "
   ]
  },
  {
   "cell_type": "code",
   "execution_count": 8,
   "metadata": {},
   "outputs": [],
   "source": [
    "def estimate_score(user_id, anime_id, rounded = True, test = False) :\n",
    "    \n",
    "    temp = 0\n",
    "\n",
    "    #rint(ratings[user_id], anime_id)\n",
    "    if(test == True) :\n",
    "        temp = ratings[user_id].pop(anime_id, None)\n",
    "        if(temp == None) :\n",
    "            print(\"You sholud test on existing records! (try test = False)\")\n",
    "            return 2137.0\n",
    "    else :\n",
    "        if(anime_id in ratings[user_id]) :\n",
    "            print(\"Anime already rated (forgot test = False ?)\")\n",
    "            return ratings[user_id][anime_id]\n",
    "    \n",
    "    has_watched = cut_records(anime_id)\n",
    "            \n",
    "    answer = KNN_score(anime_id, ratings[user_id], has_watched, normalized_dist, K = 3)\n",
    "    \n",
    "    if(test == True) :\n",
    "        ratings[user_id][anime_id] = temp\n",
    "    \n",
    "    if(rounded == True) :\n",
    "        answer = np.rint(answer)\n",
    "    return answer"
   ]
  },
  {
   "cell_type": "code",
   "execution_count": 9,
   "metadata": {},
   "outputs": [
    {
     "name": "stdout",
     "output_type": "stream",
     "text": [
      "scores: [1 2 2]\n",
      "1 2.0\n",
      "scores: [2 1 3]\n",
      "2 2.0\n",
      "scores: [3 2 4]\n",
      "3 3.0\n",
      "scores: [4 3 5]\n",
      "4 4.0\n",
      "scores: [5 4 4]\n",
      "5 4.0\n",
      "scores: [1 2 2]\n",
      "6 2.0\n",
      "scores: [2 1 3]\n",
      "7 2.0\n",
      "scores: [3 2 4]\n",
      "8 3.0\n",
      "scores: [4 3 5]\n",
      "9 4.0\n",
      "scores: [5 4 4]\n",
      "10 4.0\n",
      "scores: [1 2 3]\n",
      "1 2.0\n",
      "scores: [2 1 3]\n",
      "2 2.0\n",
      "scores: [3 2 4]\n",
      "3 3.0\n",
      "scores: [4 3 5]\n",
      "4 4.0\n",
      "scores: [5 4 3]\n",
      "5 4.0\n"
     ]
    }
   ],
   "source": [
    "for u in range(1, users + 1) :\n",
    "    print(u, estimate_score(u, 1, test = True))\n",
    "for u in range(1, 6) :\n",
    "    print(u, estimate_score(u, 2, test = False))"
   ]
  },
  {
   "cell_type": "code",
   "execution_count": null,
   "metadata": {},
   "outputs": [],
   "source": []
  }
 ],
 "metadata": {
  "kernelspec": {
   "display_name": "Python 3",
   "language": "python",
   "name": "python3"
  },
  "language_info": {
   "codemirror_mode": {
    "name": "ipython",
    "version": 3
   },
   "file_extension": ".py",
   "mimetype": "text/x-python",
   "name": "python",
   "nbconvert_exporter": "python",
   "pygments_lexer": "ipython3",
   "version": "3.6.9"
  }
 },
 "nbformat": 4,
 "nbformat_minor": 4
}
