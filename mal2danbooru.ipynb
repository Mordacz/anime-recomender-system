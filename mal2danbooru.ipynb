{
 "cells": [
  {
   "cell_type": "code",
   "execution_count": 115,
   "metadata": {},
   "outputs": [],
   "source": [
    "import numpy as np\n",
    "import matplotlib.pyplot as plt\n",
    "import collections\n",
    "import pickle\n",
    "import copy\n",
    "import os\n",
    "from tqdm import tqdm"
   ]
  },
  {
   "cell_type": "code",
   "execution_count": 82,
   "metadata": {},
   "outputs": [
    {
     "name": "stdout",
     "output_type": "stream",
     "text": [
      "loaded 5845 items in total.\n"
     ]
    }
   ],
   "source": [
    "def load_malscraps(target):\n",
    "    loaded = {}\n",
    "    dropped = []\n",
    "    for item in os.listdir(target):\n",
    "        dump = pickle.load(open(f\"{target}/{item}\", \"rb\"))\n",
    "        for ent in dump[0].items():\n",
    "            loaded[ent[0]] = ent[1]\n",
    "        dropped += dump[1]\n",
    "    print(f\"loaded {len(loaded.items())} items in total.\")\n",
    "    return loaded\n",
    "        \n",
    "malscrap = load_malscraps(\"MALscrap/\")"
   ]
  },
  {
   "cell_type": "code",
   "execution_count": 83,
   "metadata": {},
   "outputs": [
    {
     "name": "stdout",
     "output_type": "stream",
     "text": [
      "loaded 29951 bindings.\n"
     ]
    }
   ],
   "source": [
    "def load_boorucharmap():\n",
    "    character2anime = collections.defaultdict(lambda: [])\n",
    "    bindings = collections.defaultdict(lambda: 0)\n",
    "    for animename in os.listdir(\"animedump\"):\n",
    "        for character in os.listdir(f\"animedump/{animename}\"):\n",
    "            if character in character2anime.keys():\n",
    "                bindings[(animename, character2anime[character])] += 1\n",
    "            else:\n",
    "                character2anime[character[:-4]].append(animename)\n",
    "                \n",
    "    #for l in list(sorted([(t[1], t[0]) for t in bindings.items()], reverse=True)):\n",
    "    #    print(l)\n",
    "    print(f\"loaded {len(character2anime.keys())} bindings.\")\n",
    "    return character2anime\n",
    "\n",
    "character2anime = load_boorucharmap()\n",
    "    "
   ]
  },
  {
   "cell_type": "code",
   "execution_count": 197,
   "metadata": {},
   "outputs": [
    {
     "name": "stderr",
     "output_type": "stream",
     "text": [
      "100%|██████████| 10000/10000 [00:00<00:00, 39326.93it/s]\n"
     ]
    },
    {
     "data": {
      "image/png": "[encoded data removed]",
      "text/plain": [
       "<Figure size 1152x576 with 1 Axes>"
      ]
     },
     "metadata": {
      "needs_background": "light"
     },
     "output_type": "display_data"
    },
    {
     "name": "stdout",
     "output_type": "stream",
     "text": [
      "84073 2130 2775\n"
     ]
    }
   ],
   "source": [
    "def fetch_bindings(target, malscrap, character2anime):\n",
    "    animename, characters = malscrap[target]\n",
    "    #print(f\"workon {animename}\")\n",
    "    bindcount = collections.defaultdict(lambda: 0)\n",
    "    usfcnt = 0\n",
    "    for charactername, _ in characters:\n",
    "        fetch = charactername.lower()\n",
    "        candidates = copy.deepcopy(character2anime[fetch])\n",
    "        if \"_\" in fetch and len(fetch.split(\"_\")) == 2:\n",
    "            t = fetch.split(\"_\")\n",
    "            nf = t[1] + \"_\" + t[0]\n",
    "            candidates += character2anime[nf]\n",
    "        if len(candidates) > 0:\n",
    "            usfcnt += 1\n",
    "        for c in candidates:\n",
    "            bindcount[c] += 1\n",
    "            \n",
    "    if len(characters) < 2:\n",
    "        raise NotImplemented\n",
    "    mb = max(t[1] for t in bindcount.items())\n",
    "    sl = list(sorted([(t[1], t[0]) for t in bindcount.items()], reverse=True))\n",
    "\n",
    "    if sl[0][0] < usfcnt*0.60:\n",
    "        return (False, min(len(characters), 50))\n",
    "    return (True, min(len(characters), 50), sl[0])\n",
    "\n",
    "a = fetch_bindings(21, malscrap, character2anime)\n",
    "ksamplesizes = []\n",
    "wsamplesizes = []\n",
    "misss = []\n",
    "for animeit in tqdm(range(10000)):\n",
    "    try:\n",
    "        a = fetch_bindings(animeit, malscrap, character2anime)\n",
    "        if a[0] == True:\n",
    "            if a[2][1] == 'death_note':\n",
    "                wsamplesizes.append(a[1])\n",
    "            else:\n",
    "                samplesizes.append(a[1])\n",
    "        else:\n",
    "            misss.append(a[1])\n",
    "    except Exception as e:\n",
    "        pass\n",
    "    \n",
    "ss = np.array(samplesizes)\n",
    "sw = np.array(wsamplesizes)\n",
    "sm = np.array(misss)\n",
    "fig = plt.figure(figsize=(16,8))\n",
    "plt.hist([sw, ss, sm], 50, alpha=0.5, label = ['wrong', 'success', 'pass'])\n",
    "plt.legend(loc='upper right')\n",
    "plt.show()\n",
    "print(len(ss), len(sw), len(sm))"
   ]
  },
  {
   "cell_type": "code",
   "execution_count": 140,
   "metadata": {},
   "outputs": [
    {
     "name": "stdout",
     "output_type": "stream",
     "text": [
      "lelouch_lamperouge\n",
      "hatsune_miku\n",
      "hiro\n",
      "uzumaki_naruto\n",
      "monkey_d_luffy\n",
      "yuno\n",
      "ryuk\n",
      "son_gokuu\n",
      "rem\n",
      "miyako\n",
      "amane_misa\n",
      "yagami_sayu\n",
      "aizawa_shuuichi\n",
      "near\n",
      "matt\n",
      "l\n",
      "mello\n",
      "mogi_kanzou\n",
      "mikami_teru\n",
      "watari\n",
      "yagami_light\n",
      "yagami_souichirou\n",
      "misora_naomi\n",
      "sae\n",
      "matsuda_touta\n",
      "jealous\n"
     ]
    }
   ],
   "source": []
  },
  {
   "cell_type": "code",
   "execution_count": null,
   "metadata": {},
   "outputs": [],
   "source": []
  }
 ],
 "metadata": {
  "kernelspec": {
   "display_name": "Python 3",
   "language": "python",
   "name": "python3"
  },
  "language_info": {
   "codemirror_mode": {
    "name": "ipython",
    "version": 3
   },
   "file_extension": ".py",
   "mimetype": "text/x-python",
   "name": "python",
   "nbconvert_exporter": "python",
   "pygments_lexer": "ipython3",
   "version": "3.7.3"
  }
 },
 "nbformat": 4,
 "nbformat_minor": 4
}
