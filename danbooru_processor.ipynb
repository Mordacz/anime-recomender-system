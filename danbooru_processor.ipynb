{
 "cells": [
  {
   "cell_type": "code",
   "execution_count": 1,
   "metadata": {},
   "outputs": [],
   "source": [
    "import os\n",
    "from tqdm import tqdm\n",
    "import collections\n",
    "import json\n",
    "import copy"
   ]
  },
  {
   "cell_type": "code",
   "execution_count": 2,
   "metadata": {},
   "outputs": [],
   "source": [
    "def list_files():\n",
    "    files = os.listdir(\"danbooru/\")\n",
    "    return files\n",
    "\n",
    "tagid2tagname = {}\n",
    "tagname2tagid = {}\n",
    "\n",
    "images = []\n",
    "\n",
    "class image:\n",
    "    def __init__(self, imid, imagetags):\n",
    "        self.id = imid\n",
    "        self.cat_tag = {\n",
    "            0:[],\n",
    "            1:[],\n",
    "            2:[],\n",
    "            3:[],\n",
    "            4:[],\n",
    "            5:[]\n",
    "        }\n",
    "        \n",
    "        for tag in imagetags:\n",
    "            self.cat_tag[int(tag['category'])].append(int(tag['id']))\n",
    "            tagid2tagname[int(tag['id'])] = tag['name']\n",
    "            tagname2tagid[tag['name']] = int(tag['id'])\n",
    "\n",
    "def process_image(ind):\n",
    "    a = json.loads(ind)\n",
    "    if a['rating'] != 's':\n",
    "        return False\n",
    "    t = a['tags']\n",
    "    \n",
    "    newim = image(a['id'], t)\n",
    "    for catgrp in newim.cat_tag.keys():\n",
    "        for forbidden_tag in [358, 1936, 18, 29]:\n",
    "            if forbidden_tag in newim.cat_tag[catgrp]:\n",
    "                return False\n",
    "            \n",
    "    images.append(newim)\n",
    "    return True\n",
    "    \n",
    "def succ_file(file):\n",
    "    fc = 0\n",
    "    trashed = 0\n",
    "    with open(f\"danbooru/{file}\", \"r\") as f:\n",
    "        for l in f.read().split(\"\\n\"):\n",
    "            try:\n",
    "                if not process_image(l):\n",
    "                    trashed += 1\n",
    "            except Exception as e:\n",
    "                fc += 1\n",
    "                print(e)\n",
    "                \n",
    "    print(f\"wyjebano {fc + trashed}\")"
   ]
  },
  {
   "cell_type": "code",
   "execution_count": null,
   "metadata": {},
   "outputs": [],
   "source": []
  },
  {
   "cell_type": "code",
   "execution_count": 4,
   "metadata": {
    "scrolled": false
   },
   "outputs": [
    {
     "name": "stderr",
     "output_type": "stream",
     "text": [
      "  6%|▌         | 1/17 [00:06<01:45,  6.57s/it]"
     ]
    },
    {
     "name": "stdout",
     "output_type": "stream",
     "text": [
      "Expecting value: line 1 column 1 (char 0)\n",
      "wyjebano 86901\n"
     ]
    },
    {
     "name": "stderr",
     "output_type": "stream",
     "text": [
      "\r",
      " 12%|█▏        | 2/17 [00:13<01:39,  6.60s/it]"
     ]
    },
    {
     "name": "stdout",
     "output_type": "stream",
     "text": [
      "Expecting value: line 1 column 1 (char 0)\n",
      "wyjebano 86911\n"
     ]
    },
    {
     "name": "stderr",
     "output_type": "stream",
     "text": [
      "\r",
      " 18%|█▊        | 3/17 [00:20<01:34,  6.75s/it]"
     ]
    },
    {
     "name": "stdout",
     "output_type": "stream",
     "text": [
      "Expecting value: line 1 column 1 (char 0)\n",
      "wyjebano 86601\n"
     ]
    },
    {
     "name": "stderr",
     "output_type": "stream",
     "text": [
      "\r",
      " 24%|██▎       | 4/17 [00:27<01:30,  7.00s/it]"
     ]
    },
    {
     "name": "stdout",
     "output_type": "stream",
     "text": [
      "Expecting value: line 1 column 1 (char 0)\n",
      "wyjebano 86814\n"
     ]
    },
    {
     "name": "stderr",
     "output_type": "stream",
     "text": [
      "\r",
      " 29%|██▉       | 5/17 [00:34<01:22,  6.91s/it]"
     ]
    },
    {
     "name": "stdout",
     "output_type": "stream",
     "text": [
      "Expecting value: line 1 column 1 (char 0)\n",
      "wyjebano 87040\n"
     ]
    },
    {
     "name": "stderr",
     "output_type": "stream",
     "text": [
      "\r",
      " 35%|███▌      | 6/17 [00:42<01:18,  7.10s/it]"
     ]
    },
    {
     "name": "stdout",
     "output_type": "stream",
     "text": [
      "Expecting value: line 1 column 1 (char 0)\n",
      "wyjebano 86780\n"
     ]
    },
    {
     "name": "stderr",
     "output_type": "stream",
     "text": [
      "\r",
      " 41%|████      | 7/17 [00:48<01:08,  6.85s/it]"
     ]
    },
    {
     "name": "stdout",
     "output_type": "stream",
     "text": [
      "Expecting value: line 1 column 1 (char 0)\n",
      "wyjebano 86550\n"
     ]
    },
    {
     "name": "stderr",
     "output_type": "stream",
     "text": [
      "\r",
      " 47%|████▋     | 8/17 [00:56<01:05,  7.26s/it]"
     ]
    },
    {
     "name": "stdout",
     "output_type": "stream",
     "text": [
      "Expecting value: line 1 column 1 (char 0)\n",
      "wyjebano 86666\n"
     ]
    },
    {
     "name": "stderr",
     "output_type": "stream",
     "text": [
      "\r",
      " 53%|█████▎    | 9/17 [01:02<00:54,  6.87s/it]"
     ]
    },
    {
     "name": "stdout",
     "output_type": "stream",
     "text": [
      "Expecting value: line 1 column 1 (char 0)\n",
      "wyjebano 86865\n"
     ]
    },
    {
     "name": "stderr",
     "output_type": "stream",
     "text": [
      "\r",
      " 59%|█████▉    | 10/17 [01:10<00:49,  7.12s/it]"
     ]
    },
    {
     "name": "stdout",
     "output_type": "stream",
     "text": [
      "Expecting value: line 1 column 1 (char 0)\n",
      "wyjebano 86487\n"
     ]
    },
    {
     "name": "stderr",
     "output_type": "stream",
     "text": [
      "\r",
      " 65%|██████▍   | 11/17 [01:16<00:40,  6.74s/it]"
     ]
    },
    {
     "name": "stdout",
     "output_type": "stream",
     "text": [
      "Expecting value: line 1 column 1 (char 0)\n",
      "wyjebano 86726\n"
     ]
    },
    {
     "name": "stderr",
     "output_type": "stream",
     "text": [
      "\r",
      " 71%|███████   | 12/17 [01:24<00:35,  7.18s/it]"
     ]
    },
    {
     "name": "stdout",
     "output_type": "stream",
     "text": [
      "Expecting value: line 1 column 1 (char 0)\n",
      "wyjebano 86443\n"
     ]
    },
    {
     "name": "stderr",
     "output_type": "stream",
     "text": [
      "\r",
      " 76%|███████▋  | 13/17 [01:30<00:27,  6.91s/it]"
     ]
    },
    {
     "name": "stdout",
     "output_type": "stream",
     "text": [
      "Expecting value: line 1 column 1 (char 0)\n",
      "wyjebano 86650\n"
     ]
    },
    {
     "name": "stderr",
     "output_type": "stream",
     "text": [
      "\r",
      " 82%|████████▏ | 14/17 [01:36<00:20,  6.74s/it]"
     ]
    },
    {
     "name": "stdout",
     "output_type": "stream",
     "text": [
      "Expecting value: line 1 column 1 (char 0)\n",
      "wyjebano 86906\n"
     ]
    },
    {
     "name": "stderr",
     "output_type": "stream",
     "text": [
      "\r",
      " 88%|████████▊ | 15/17 [01:45<00:14,  7.34s/it]"
     ]
    },
    {
     "name": "stdout",
     "output_type": "stream",
     "text": [
      "Expecting value: line 1 column 1 (char 0)\n",
      "wyjebano 86533\n"
     ]
    },
    {
     "name": "stderr",
     "output_type": "stream",
     "text": [
      "\r",
      " 94%|█████████▍| 16/17 [01:51<00:06,  6.94s/it]"
     ]
    },
    {
     "name": "stdout",
     "output_type": "stream",
     "text": [
      "Expecting value: line 1 column 1 (char 0)\n",
      "wyjebano 86636\n"
     ]
    },
    {
     "name": "stderr",
     "output_type": "stream",
     "text": [
      "100%|██████████| 17/17 [01:57<00:00,  6.92s/it]"
     ]
    },
    {
     "name": "stdout",
     "output_type": "stream",
     "text": [
      "Expecting value: line 1 column 1 (char 0)\n",
      "wyjebano 86709\n",
      "1489727\n"
     ]
    },
    {
     "name": "stderr",
     "output_type": "stream",
     "text": [
      "\n"
     ]
    }
   ],
   "source": [
    "for file in tqdm(list(list_files())):\n",
    "    succ_file(file)\n",
    "print(len(images))"
   ]
  },
  {
   "cell_type": "code",
   "execution_count": null,
   "metadata": {},
   "outputs": [],
   "source": []
  },
  {
   "cell_type": "code",
   "execution_count": 5,
   "metadata": {},
   "outputs": [],
   "source": [
    "\n",
    "def check_for_single_character(image):\n",
    "    imtags = set(image.cat_tag[0])\n",
    "    # multiple characters.\n",
    "\n",
    "    # 1821 2girls\n",
    "    if 1821 in imtags:\n",
    "        return False\n",
    "    # 449194 2boys\n",
    "    if 449194 in imtags:\n",
    "        return False\n",
    "    \n",
    "    # 399836 3girls\n",
    "    if 399836 in imtags:\n",
    "        return False\n",
    "    #487156 3boys\n",
    "    if 487156 in imtags:\n",
    "        return False\n",
    "    \n",
    "    # 412555 4girls\n",
    "    if 412555 in imtags:\n",
    "        return False\n",
    "    # 4boys 479955\n",
    "    if 479955 in imtags:\n",
    "        return False\n",
    "    \n",
    "    # 421662 5girls\n",
    "    if 421662 in imtags:\n",
    "        return False\n",
    "    # 480899 5boys\n",
    "    if 480899 in imtags:\n",
    "        return False\n",
    "    \n",
    "    #567316 6+girls\n",
    "    if 567316 in imtags:\n",
    "        return False\n",
    "    #572753 6+boys\n",
    "    if 572753 in imtags:\n",
    "        return False\n",
    "    \n",
    "    # multiple_boys 568656\n",
    "    if 568656 in imtags:\n",
    "        return False\n",
    "    \n",
    "    # wiemy że w obrazku nie ma nielegalnych tagów.\n",
    "    # teraz sprawdzamy czy jest dokładnie jedna postać\n",
    "    \n",
    "    #540830 1boy\n",
    "    #470575 1girl\n",
    "    return (540830 in imtags) != (470575 in imtags)"
   ]
  },
  {
   "cell_type": "code",
   "execution_count": 6,
   "metadata": {
    "scrolled": true
   },
   "outputs": [],
   "source": [
    "def anime_query(images):\n",
    "    concatdump = set()\n",
    "    for im in images:\n",
    "        for t in im.cat_tag[3]:\n",
    "            concatdump.add(t)\n",
    "    return [(tagid2tagname[t], t) for t in concatdump]\n",
    "\n",
    "def imsplit_query(images, anime):\n",
    "    imdump = []\n",
    "    for im in images:\n",
    "        if anime in im.cat_tag[3]:\n",
    "            imdump.append(im)\n",
    "            \n",
    "    return imdump\n",
    "\n",
    "def succ_characters(ims):\n",
    "    characters = set()\n",
    "    for im in ims:\n",
    "        for tag in im.cat_tag[4]:\n",
    "            characters |= set([tag])\n",
    "    return characters\n",
    "\n",
    "def sift_character_images(images, character_tag):\n",
    "    cimages = []\n",
    "    for im in images:\n",
    "        if character_tag in im.cat_tag[4]:\n",
    "            cimages.append(im)\n",
    "    return cimages\n",
    "\n",
    "def character_check(images, anime):\n",
    "    if len(images) < 5:\n",
    "        return False\n",
    "    occurances = collections.defaultdict(lambda: 0)\n",
    "    all_ = len(images)\n",
    "    for im in images:\n",
    "        for anime_title in im.cat_tag[3]:\n",
    "            occurances[anime_title] += 1\n",
    "\n",
    "    ocsrt = list(sorted(list([(float(k[1])/float(all_), k[0]) for k in occurances.items()]), reverse=True))\n",
    "    for occ, oc in ocsrt:\n",
    "        if oc == anime:\n",
    "            return occ > 0.95\n",
    "    return False\n",
    "    \n",
    "        \n",
    "animes = anime_query(images)\n",
    "# index 407852\n",
    "# dragon maid 1394886\n",
    "def get_anime_character_tags(animeid, images, verbose = False):\n",
    "    #print(tagid2tagname[animeid])\n",
    "    images = imsplit_query(images, animeid)\n",
    "    #print(len(images))\n",
    "    characters = succ_characters(images)\n",
    "    character_tags = collections.defaultdict(lambda: None)\n",
    "            \n",
    "    for c in characters:\n",
    "        chartags = collections.defaultdict(lambda: 0)\n",
    "        imcounts = 0\n",
    "\n",
    "        sifted_images = sift_character_images(images, c)\n",
    "        if not character_check(sifted_images, animeid):\n",
    "            pass\n",
    "        else:\n",
    "            #print(tagid2tagname[c], c, len(sifted_images))\n",
    "            for im in sifted_images:\n",
    "                if check_for_single_character(im):\n",
    "                    #print(im.id, [tagid2tagname[k] for k in im.cat_tag[3]])\n",
    "                    imcounts += 1\n",
    "                    charactertags = im.cat_tag[0]\n",
    "                    for tag in charactertags:\n",
    "                        chartags[tag] += 1\n",
    "\n",
    "            #print(imcounts)\n",
    "            tagl = [(k[1], k[0]) for k in chartags.items()]\n",
    "            tagl = sorted(tagl, reverse=True)\n",
    "            character_tags[c] = (imcounts, copy.deepcopy(tagl))\n",
    "            #for c, tid in tagl[:10]:\n",
    "            #    tp = float(c)/float(imcounts)\n",
    "            #    print(tp, tagid2tagname[tid], tid)\n",
    "    return character_tags\n",
    "\n",
    "#testtags = get_anime_character_tags(407852, images, True)\n",
    "# obrazki z danego anime\n"
   ]
  },
  {
   "cell_type": "code",
   "execution_count": 9,
   "metadata": {
    "scrolled": false
   },
   "outputs": [
    {
     "name": "stderr",
     "output_type": "stream",
     "text": [
      "cafe_little_wish:  51%|█████     | 9245/18266 [1:54:17<2:04:05,  1.21it/s]                                                                                                                                 "
     ]
    },
    {
     "name": "stdout",
     "output_type": "stream",
     "text": [
      "monster_hunter string index out of range\n"
     ]
    },
    {
     "name": "stderr",
     "output_type": "stream",
     "text": [
      "moeru!_jiten: 100%|██████████| 18266/18266 [3:37:58<00:00,  1.40it/s]                                                                                                \n"
     ]
    }
   ],
   "source": [
    "#print(testtags)\n",
    "\n",
    "def stemmer(word):\n",
    "    succ = word.split(\"(\")[0]\n",
    "    if succ[-1] == \"_\":\n",
    "        return succ[:-1]\n",
    "    return succ\n",
    "    \n",
    "def chardict_postprocess(resdict):\n",
    "    characters = resdict.keys()\n",
    "    joinedcharacter = collections.defaultdict(lambda: [0, collections.defaultdict(lambda: 0)])\n",
    "    \n",
    "    for character, chartags in resdict.items():\n",
    "        if resdict[character]:\n",
    "            charstem = stemmer(tagid2tagname[character])\n",
    "            joinedcharacter[charstem][0] += chartags[0]\n",
    "            for tagcnt, tag in chartags[1]:\n",
    "                joinedcharacter[charstem][1][tag] += tagcnt\n",
    "\n",
    "    final_dict = collections.defaultdict(lambda: [0, collections.defaultdict(lambda: 0)])\n",
    "    for character in joinedcharacter.keys():\n",
    "        if joinedcharacter[character][0] > 2:\n",
    "            final_dict[character] = copy.deepcopy(joinedcharacter[character])\n",
    "    \n",
    "    return joinedcharacter\n",
    "            \n",
    "def charactertags_prettyprinter(tags):\n",
    "    imcount, tags = tags\n",
    "    for ittag, itcount in tags.items():\n",
    "        print(float(itcount)/float(imcount), tagid2tagname[ittag])\n",
    "    pass\n",
    "\n",
    "#a = chardict_postprocess(testtags)\n",
    "#charactertags_prettyprinter(a['saten_ruiko'])\n",
    "\n",
    "def dump2file(animeid, images):\n",
    "    #print(f\"{tagid2tagname[animeid]}\")\n",
    "    christian_tagname = tagid2tagname[animeid].replace(\"/\", \"_\")\n",
    "    try:\n",
    "        os.mkdir(f\"BIG_animedump/{christian_tagname}\")\n",
    "    except Exception as e:\n",
    "        pass\n",
    "    \n",
    "    tags = get_anime_character_tags(animeid, images, False)\n",
    "    postprocessed = chardict_postprocess(tags)\n",
    "    if len(postprocessed.keys()) > 0:\n",
    "        for character in postprocessed.keys():\n",
    "            christian_character = character.replace(\"/\", \"_\")\n",
    "            with open(f\"BIG_animedump/{christian_tagname}/{christian_character}.txt\", \"w\") as f:\n",
    "                f.write(f\"{postprocessed[character][0]}\\n\")\n",
    "                for tag in postprocessed[character][1].keys():\n",
    "                    if postprocessed[character][1][tag] > 0:\n",
    "                        f.write(f\"{postprocessed[character][1][tag]}, {tag}, {tagid2tagname[tag]}\\n\")\n",
    "\n",
    "pbar = tqdm(animes)\n",
    "for animename, animeid in pbar:\n",
    "    pbar.set_description(animename)\n",
    "    try:\n",
    "        dump2file(animeid, images)\n",
    "    except Exception as e:\n",
    "        print(animename, e)"
   ]
  },
  {
   "cell_type": "code",
   "execution_count": null,
   "metadata": {},
   "outputs": [],
   "source": []
  }
 ],
 "metadata": {
  "kernelspec": {
   "display_name": "Python 3",
   "language": "python",
   "name": "python3"
  },
  "language_info": {
   "codemirror_mode": {
    "name": "ipython",
    "version": 3
   },
   "file_extension": ".py",
   "mimetype": "text/x-python",
   "name": "python",
   "nbconvert_exporter": "python",
   "pygments_lexer": "ipython3",
   "version": "3.7.3"
  }
 },
 "nbformat": 4,
 "nbformat_minor": 4
}
